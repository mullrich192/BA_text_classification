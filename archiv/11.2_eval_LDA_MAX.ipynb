{
 "cells": [
  {
   "attachments": {},
   "cell_type": "markdown",
   "metadata": {},
   "source": [
    "# Evaluation LDA MAX\n",
    "\n",
    "- kombi of different class und topic\n",
    "- mapping averbis klasse mit meiner Zahl\n",
    "- Fehlerrrberechnung - erhalte Zahl ob korrekt oder nicht"
   ]
  },
  {
   "cell_type": "code",
   "execution_count": 1,
   "metadata": {},
   "outputs": [],
   "source": [
    "# imports\n",
    "import pandas as pd\n",
    "import numpy as np\n",
    "import itertools\n",
    "from itertools import permutations\n",
    "from sklearn import metrics"
   ]
  },
  {
   "cell_type": "code",
   "execution_count": 2,
   "metadata": {},
   "outputs": [],
   "source": [
    "#read csv file from predicted topics\n",
    "df = pd.read_csv('/home/ubuntu/ullrich/my_code/data/predicted_LDA_määäx.csv', sep=',')"
   ]
  },
  {
   "cell_type": "code",
   "execution_count": 3,
   "metadata": {},
   "outputs": [],
   "source": [
    "# drop unnessecary columns \n",
    "df = df.drop(['Unnamed: 0'], axis=1)\n",
    "# replace topic name\n",
    "df = df.replace({'class':'ErnÃ¤hrung'},{'class':'Ernährung'})"
   ]
  },
  {
   "cell_type": "code",
   "execution_count": 4,
   "metadata": {},
   "outputs": [
    {
     "data": {
      "text/html": [
       "<div>\n",
       "<style scoped>\n",
       "    .dataframe tbody tr th:only-of-type {\n",
       "        vertical-align: middle;\n",
       "    }\n",
       "\n",
       "    .dataframe tbody tr th {\n",
       "        vertical-align: top;\n",
       "    }\n",
       "\n",
       "    .dataframe thead th {\n",
       "        text-align: right;\n",
       "    }\n",
       "</style>\n",
       "<table border=\"1\" class=\"dataframe\">\n",
       "  <thead>\n",
       "    <tr style=\"text-align: right;\">\n",
       "      <th></th>\n",
       "      <th>dbrecordid</th>\n",
       "      <th>class</th>\n",
       "      <th>combined</th>\n",
       "      <th>topic</th>\n",
       "      <th>certainty</th>\n",
       "    </tr>\n",
       "  </thead>\n",
       "  <tbody>\n",
       "    <tr>\n",
       "      <th>0</th>\n",
       "      <td>BASE::ftdoajarticles:oai:doaj.org/article:d7b5...</td>\n",
       "      <td>Ernährung</td>\n",
       "      <td>type,diabetes,reported,greater,prevalence,poor...</td>\n",
       "      <td>3.0</td>\n",
       "      <td>0.946439</td>\n",
       "    </tr>\n",
       "    <tr>\n",
       "      <th>1</th>\n",
       "      <td>M3972220</td>\n",
       "      <td>Medizin</td>\n",
       "      <td>document,case,acute,nonobstructive,appendiciti...</td>\n",
       "      <td>3.0</td>\n",
       "      <td>0.975151</td>\n",
       "    </tr>\n",
       "    <tr>\n",
       "      <th>2</th>\n",
       "      <td>AGRISUS201500009429</td>\n",
       "      <td>Umweltwissenschaften</td>\n",
       "      <td>study,examine,biological,process,involved,ammo...</td>\n",
       "      <td>3.0</td>\n",
       "      <td>0.733459</td>\n",
       "    </tr>\n",
       "    <tr>\n",
       "      <th>3</th>\n",
       "      <td>M32650928</td>\n",
       "      <td>Medizin</td>\n",
       "      <td>highly,reliable,identification,adult,hypertrop...</td>\n",
       "      <td>1.0</td>\n",
       "      <td>0.674510</td>\n",
       "    </tr>\n",
       "    <tr>\n",
       "      <th>4</th>\n",
       "      <td>M6641809</td>\n",
       "      <td>Medizin</td>\n",
       "      <td>sedimentation,study,colchicine,binding,assay,d...</td>\n",
       "      <td>1.0</td>\n",
       "      <td>0.975639</td>\n",
       "    </tr>\n",
       "    <tr>\n",
       "      <th>...</th>\n",
       "      <td>...</td>\n",
       "      <td>...</td>\n",
       "      <td>...</td>\n",
       "      <td>...</td>\n",
       "      <td>...</td>\n",
       "    </tr>\n",
       "    <tr>\n",
       "      <th>99265</th>\n",
       "      <td>BASE::ftdoajarticles:oai:doaj.org/article:12cf...</td>\n",
       "      <td>Umweltwissenschaften</td>\n",
       "      <td>stock,assessment,edible,bivalve,solen,brevis,w...</td>\n",
       "      <td>NaN</td>\n",
       "      <td>NaN</td>\n",
       "    </tr>\n",
       "    <tr>\n",
       "      <th>99266</th>\n",
       "      <td>M2887402</td>\n",
       "      <td>Landwirtschaft</td>\n",
       "      <td>report,describes,localization,kda,glycoprotein...</td>\n",
       "      <td>3.0</td>\n",
       "      <td>0.975730</td>\n",
       "    </tr>\n",
       "    <tr>\n",
       "      <th>99267</th>\n",
       "      <td>M34390914</td>\n",
       "      <td>Landwirtschaft</td>\n",
       "      <td>systematic,knowledge,role,dna,repair,gene,leve...</td>\n",
       "      <td>3.0</td>\n",
       "      <td>0.508172</td>\n",
       "    </tr>\n",
       "    <tr>\n",
       "      <th>99268</th>\n",
       "      <td>AGRICOLAIND607823800</td>\n",
       "      <td>Medizin</td>\n",
       "      <td>background,depression,global,disease,affect,ph...</td>\n",
       "      <td>NaN</td>\n",
       "      <td>NaN</td>\n",
       "    </tr>\n",
       "    <tr>\n",
       "      <th>99269</th>\n",
       "      <td>M28204510</td>\n",
       "      <td>Landwirtschaft</td>\n",
       "      <td>flowering,locus,flc,key,floral,repressor,preci...</td>\n",
       "      <td>3.0</td>\n",
       "      <td>0.513957</td>\n",
       "    </tr>\n",
       "  </tbody>\n",
       "</table>\n",
       "<p>99270 rows × 5 columns</p>\n",
       "</div>"
      ],
      "text/plain": [
       "                                              dbrecordid  \\\n",
       "0      BASE::ftdoajarticles:oai:doaj.org/article:d7b5...   \n",
       "1                                               M3972220   \n",
       "2                                    AGRISUS201500009429   \n",
       "3                                              M32650928   \n",
       "4                                               M6641809   \n",
       "...                                                  ...   \n",
       "99265  BASE::ftdoajarticles:oai:doaj.org/article:12cf...   \n",
       "99266                                           M2887402   \n",
       "99267                                          M34390914   \n",
       "99268                               AGRICOLAIND607823800   \n",
       "99269                                          M28204510   \n",
       "\n",
       "                      class  \\\n",
       "0                 Ernährung   \n",
       "1                   Medizin   \n",
       "2      Umweltwissenschaften   \n",
       "3                   Medizin   \n",
       "4                   Medizin   \n",
       "...                     ...   \n",
       "99265  Umweltwissenschaften   \n",
       "99266        Landwirtschaft   \n",
       "99267        Landwirtschaft   \n",
       "99268               Medizin   \n",
       "99269        Landwirtschaft   \n",
       "\n",
       "                                                combined  topic  certainty  \n",
       "0      type,diabetes,reported,greater,prevalence,poor...    3.0   0.946439  \n",
       "1      document,case,acute,nonobstructive,appendiciti...    3.0   0.975151  \n",
       "2      study,examine,biological,process,involved,ammo...    3.0   0.733459  \n",
       "3      highly,reliable,identification,adult,hypertrop...    1.0   0.674510  \n",
       "4      sedimentation,study,colchicine,binding,assay,d...    1.0   0.975639  \n",
       "...                                                  ...    ...        ...  \n",
       "99265  stock,assessment,edible,bivalve,solen,brevis,w...    NaN        NaN  \n",
       "99266  report,describes,localization,kda,glycoprotein...    3.0   0.975730  \n",
       "99267  systematic,knowledge,role,dna,repair,gene,leve...    3.0   0.508172  \n",
       "99268  background,depression,global,disease,affect,ph...    NaN        NaN  \n",
       "99269  flowering,locus,flc,key,floral,repressor,preci...    3.0   0.513957  \n",
       "\n",
       "[99270 rows x 5 columns]"
      ]
     },
     "execution_count": 4,
     "metadata": {},
     "output_type": "execute_result"
    }
   ],
   "source": [
    "df"
   ]
  },
  {
   "cell_type": "code",
   "execution_count": 5,
   "metadata": {},
   "outputs": [
    {
     "name": "stdout",
     "output_type": "stream",
     "text": [
      "<class 'pandas.core.frame.DataFrame'>\n",
      "RangeIndex: 96736 entries, 0 to 96735\n",
      "Data columns (total 4 columns):\n",
      " #   Column      Non-Null Count  Dtype  \n",
      "---  ------      --------------  -----  \n",
      " 0   dbrecordid  96736 non-null  object \n",
      " 1   class       96736 non-null  object \n",
      " 2   topic       70615 non-null  float64\n",
      " 3   certainty   70615 non-null  float64\n",
      "dtypes: float64(2), object(2)\n",
      "memory usage: 3.0+ MB\n"
     ]
    }
   ],
   "source": [
    "df.info()"
   ]
  },
  {
   "attachments": {},
   "cell_type": "markdown",
   "metadata": {},
   "source": [
    "- 26.000 none values ?? - Text beinhaltet kein Wort aus der Themenklasse - Beschiss\n",
    "- unter 60 % raus "
   ]
  },
  {
   "cell_type": "code",
   "execution_count": 4,
   "metadata": {},
   "outputs": [],
   "source": [
    "#df_test = df[(df['certainty'] is not None) & (df['certainty'] >= 0.6 )]"
   ]
  },
  {
   "cell_type": "code",
   "execution_count": 5,
   "metadata": {},
   "outputs": [
    {
     "name": "stdout",
     "output_type": "stream",
     "text": [
      "[[('Medizin', 0.0), ('Landwirtschaft', 1.0), ('Umweltwissenschaften', 2.0), ('Ernährung', 3.0)], [('Medizin', 0.0), ('Landwirtschaft', 1.0), ('Ernährung', 2.0), ('Umweltwissenschaften', 3.0)], [('Medizin', 0.0), ('Umweltwissenschaften', 1.0), ('Landwirtschaft', 2.0), ('Ernährung', 3.0)], [('Medizin', 0.0), ('Umweltwissenschaften', 1.0), ('Ernährung', 2.0), ('Landwirtschaft', 3.0)], [('Medizin', 0.0), ('Ernährung', 1.0), ('Landwirtschaft', 2.0), ('Umweltwissenschaften', 3.0)], [('Medizin', 0.0), ('Ernährung', 1.0), ('Umweltwissenschaften', 2.0), ('Landwirtschaft', 3.0)], [('Landwirtschaft', 0.0), ('Medizin', 1.0), ('Umweltwissenschaften', 2.0), ('Ernährung', 3.0)], [('Landwirtschaft', 0.0), ('Medizin', 1.0), ('Ernährung', 2.0), ('Umweltwissenschaften', 3.0)], [('Landwirtschaft', 0.0), ('Umweltwissenschaften', 1.0), ('Medizin', 2.0), ('Ernährung', 3.0)], [('Landwirtschaft', 0.0), ('Umweltwissenschaften', 1.0), ('Ernährung', 2.0), ('Medizin', 3.0)], [('Landwirtschaft', 0.0), ('Ernährung', 1.0), ('Medizin', 2.0), ('Umweltwissenschaften', 3.0)], [('Landwirtschaft', 0.0), ('Ernährung', 1.0), ('Umweltwissenschaften', 2.0), ('Medizin', 3.0)], [('Umweltwissenschaften', 0.0), ('Medizin', 1.0), ('Landwirtschaft', 2.0), ('Ernährung', 3.0)], [('Umweltwissenschaften', 0.0), ('Medizin', 1.0), ('Ernährung', 2.0), ('Landwirtschaft', 3.0)], [('Umweltwissenschaften', 0.0), ('Landwirtschaft', 1.0), ('Medizin', 2.0), ('Ernährung', 3.0)], [('Umweltwissenschaften', 0.0), ('Landwirtschaft', 1.0), ('Ernährung', 2.0), ('Medizin', 3.0)], [('Umweltwissenschaften', 0.0), ('Ernährung', 1.0), ('Medizin', 2.0), ('Landwirtschaft', 3.0)], [('Umweltwissenschaften', 0.0), ('Ernährung', 1.0), ('Landwirtschaft', 2.0), ('Medizin', 3.0)], [('Ernährung', 0.0), ('Medizin', 1.0), ('Landwirtschaft', 2.0), ('Umweltwissenschaften', 3.0)], [('Ernährung', 0.0), ('Medizin', 1.0), ('Umweltwissenschaften', 2.0), ('Landwirtschaft', 3.0)], [('Ernährung', 0.0), ('Landwirtschaft', 1.0), ('Medizin', 2.0), ('Umweltwissenschaften', 3.0)], [('Ernährung', 0.0), ('Landwirtschaft', 1.0), ('Umweltwissenschaften', 2.0), ('Medizin', 3.0)], [('Ernährung', 0.0), ('Umweltwissenschaften', 1.0), ('Medizin', 2.0), ('Landwirtschaft', 3.0)], [('Ernährung', 0.0), ('Umweltwissenschaften', 1.0), ('Landwirtschaft', 2.0), ('Medizin', 3.0)]]\n"
     ]
    }
   ],
   "source": [
    "#define all possible combinations of the classes\n",
    "classes = ['Medizin', 'Landwirtschaft', 'Umweltwissenschaften', 'Ernährung']\n",
    "topics = [0.0,1.0,2.0,3.0]\n",
    "\n",
    "unique_combinations = []\n",
    "permut = itertools.permutations(classes, len(topics))\n",
    "\n",
    "for comb in permut:\n",
    "    zipped = zip(comb, topics)\n",
    "    unique_combinations.append(list(zipped))\n",
    " \n",
    "# printing unique_combination list\n",
    "print(unique_combinations)"
   ]
  },
  {
   "cell_type": "code",
   "execution_count": 6,
   "metadata": {},
   "outputs": [],
   "source": [
    "#get lists of pred and true values\n",
    "pred_test = df['topic'].values.tolist()\n",
    "true_test = df['class'].values.tolist()"
   ]
  },
  {
   "cell_type": "code",
   "execution_count": 7,
   "metadata": {},
   "outputs": [],
   "source": [
    "#replace items in predicted list\n",
    "def replace_items(pred_list, true_list):\n",
    "    liste = list(pred_list)\n",
    "    for i in range(len(liste)):\n",
    "        for tupel in true_list:\n",
    "            if liste[i] == tupel[1]:\n",
    "                liste[i] = tupel[0]\n",
    "    return liste"
   ]
  },
  {
   "cell_type": "code",
   "execution_count": 8,
   "metadata": {},
   "outputs": [],
   "source": [
    "#create f1-score for every combination\n",
    "def f1_score(combinations, pred_list, true_list):\n",
    "    result = []\n",
    "    for combi in combinations:\n",
    "        res = {}\n",
    "        pred = replace_items(pred_list,combi)\n",
    "        f1 = metrics.f1_score(true_list, pred, average='weighted')\n",
    "        res.update({'Combi': combi,'f1_score': f1})\n",
    "        result.append(res)\n",
    "    return result"
   ]
  },
  {
   "cell_type": "code",
   "execution_count": 9,
   "metadata": {},
   "outputs": [],
   "source": [
    "#get dictionary for each combination and every score\n",
    "res_dict = f1_score(unique_combinations, pred_test, true_test)"
   ]
  },
  {
   "cell_type": "code",
   "execution_count": 10,
   "metadata": {},
   "outputs": [],
   "source": [
    "#get highest value of dictionary\n",
    "def highest_val(lst, key, key2):\n",
    "    highest_value = None\n",
    "    for dict in lst:\n",
    "        score = dict[key]\n",
    "        combi = dict[key2]  \n",
    "        if highest_value is None or score > highest_value:\n",
    "            highest_value = score\n",
    "            pred_combi = combi\n",
    "    return highest_value, pred_combi"
   ]
  },
  {
   "cell_type": "code",
   "execution_count": 11,
   "metadata": {},
   "outputs": [],
   "source": [
    "f1 = highest_val(res_dict,'f1_score','Combi')"
   ]
  },
  {
   "cell_type": "code",
   "execution_count": 12,
   "metadata": {},
   "outputs": [
    {
     "data": {
      "text/plain": [
       "(0.182059591509643,\n",
       " [('Landwirtschaft', 0.0),\n",
       "  ('Umweltwissenschaften', 1.0),\n",
       "  ('Ernährung', 2.0),\n",
       "  ('Medizin', 3.0)])"
      ]
     },
     "execution_count": 12,
     "metadata": {},
     "output_type": "execute_result"
    }
   ],
   "source": [
    "f1"
   ]
  },
  {
   "cell_type": "code",
   "execution_count": null,
   "metadata": {},
   "outputs": [],
   "source": [
    "#get list of the class and predicted topic\n",
    "pred_averbis = df[['class', 'topic']].values.tolist()\n",
    "pred_averbis_test = df_test[['class', 'topic']].values.tolist()"
   ]
  },
  {
   "cell_type": "code",
   "execution_count": null,
   "metadata": {},
   "outputs": [],
   "source": [
    "def calculate_acc_score(pred_class, combinations):\n",
    "    result = [] \n",
    "    for combi in combinations:\n",
    "        tmp = {}\n",
    "        total_count = len(pred_class)\n",
    "        match_count = 0\n",
    "        #print(combi)\n",
    "        for item in pred_class:\n",
    "            item = tuple(item)\n",
    "            if item in combi:\n",
    "                match_count = match_count + 1\n",
    "        #print(match_count)        \n",
    "        accuracy = match_count / total_count\n",
    "        tmp.update({'Combi': combi,'match_count': match_count, 'acc_score': accuracy})\n",
    "        result.append(tmp)\n",
    "    return result"
   ]
  },
  {
   "cell_type": "code",
   "execution_count": null,
   "metadata": {},
   "outputs": [],
   "source": [
    "#get dict of results\n",
    "result = calculate_acc_score(pred_averbis, unique_combinations)\n",
    "result_test = calculate_acc_score(pred_averbis_test, unique_combinations)"
   ]
  },
  {
   "cell_type": "code",
   "execution_count": null,
   "metadata": {},
   "outputs": [
    {
     "data": {
      "text/plain": [
       "(0.23706789355881622,\n",
       " [('Ernährung', 0.0),\n",
       "  ('Landwirtschaft', 1.0),\n",
       "  ('Rest', 2.0),\n",
       "  ('Medizin', 3.0),\n",
       "  ('Umweltwissenschaften', 4.0)])"
      ]
     },
     "metadata": {},
     "output_type": "display_data"
    }
   ],
   "source": [
    "highest_val(result, 'acc_score', 'Combi')\n",
    "highest_val(result_test, 'acc_score', 'Combi')"
   ]
  }
 ],
 "metadata": {
  "kernelspec": {
   "display_name": "base",
   "language": "python",
   "name": "python3"
  },
  "language_info": {
   "codemirror_mode": {
    "name": "ipython",
    "version": 3
   },
   "file_extension": ".py",
   "mimetype": "text/x-python",
   "name": "python",
   "nbconvert_exporter": "python",
   "pygments_lexer": "ipython3",
   "version": "3.10.9"
  },
  "orig_nbformat": 4
 },
 "nbformat": 4,
 "nbformat_minor": 2
}
