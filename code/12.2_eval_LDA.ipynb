{
 "cells": [
  {
   "attachments": {},
   "cell_type": "markdown",
   "metadata": {},
   "source": [
    "# Evaluation LDA\n"
   ]
  },
  {
   "cell_type": "code",
   "execution_count": 2,
   "metadata": {},
   "outputs": [],
   "source": [
    "# imports\n",
    "import pandas as pd\n",
    "import numpy as np\n",
    "import itertools\n",
    "from itertools import permutations\n",
    "from sklearn import metrics"
   ]
  },
  {
   "cell_type": "code",
   "execution_count": null,
   "metadata": {},
   "outputs": [],
   "source": [
    "path = '/home/ubuntu/ullrich/data/'"
   ]
  },
  {
   "cell_type": "code",
   "execution_count": 3,
   "metadata": {},
   "outputs": [],
   "source": [
    "#read csv file from predicted topics\n",
    "df = pd.read_csv(path + 'predicted_LDA_4classes.csv', sep=',')"
   ]
  },
  {
   "cell_type": "code",
   "execution_count": 4,
   "metadata": {},
   "outputs": [],
   "source": [
    "# drop unnessecary columns \n",
    "df = df.drop(['Unnamed: 0'], axis=1)\n",
    "# replace topic name\n",
    "df = df.replace({'class':'ErnÃ¤hrung'},{'class':'Ernährung'})"
   ]
  },
  {
   "cell_type": "code",
   "execution_count": 8,
   "metadata": {},
   "outputs": [
    {
     "name": "stdout",
     "output_type": "stream",
     "text": [
      "[[('Medizin', 0.0), ('Landwirtschaft', 1.0), ('Umweltwissenschaften', 2.0), ('Ernährung', 3.0)], [('Medizin', 0.0), ('Landwirtschaft', 1.0), ('Ernährung', 2.0), ('Umweltwissenschaften', 3.0)], [('Medizin', 0.0), ('Umweltwissenschaften', 1.0), ('Landwirtschaft', 2.0), ('Ernährung', 3.0)], [('Medizin', 0.0), ('Umweltwissenschaften', 1.0), ('Ernährung', 2.0), ('Landwirtschaft', 3.0)], [('Medizin', 0.0), ('Ernährung', 1.0), ('Landwirtschaft', 2.0), ('Umweltwissenschaften', 3.0)], [('Medizin', 0.0), ('Ernährung', 1.0), ('Umweltwissenschaften', 2.0), ('Landwirtschaft', 3.0)], [('Landwirtschaft', 0.0), ('Medizin', 1.0), ('Umweltwissenschaften', 2.0), ('Ernährung', 3.0)], [('Landwirtschaft', 0.0), ('Medizin', 1.0), ('Ernährung', 2.0), ('Umweltwissenschaften', 3.0)], [('Landwirtschaft', 0.0), ('Umweltwissenschaften', 1.0), ('Medizin', 2.0), ('Ernährung', 3.0)], [('Landwirtschaft', 0.0), ('Umweltwissenschaften', 1.0), ('Ernährung', 2.0), ('Medizin', 3.0)], [('Landwirtschaft', 0.0), ('Ernährung', 1.0), ('Medizin', 2.0), ('Umweltwissenschaften', 3.0)], [('Landwirtschaft', 0.0), ('Ernährung', 1.0), ('Umweltwissenschaften', 2.0), ('Medizin', 3.0)], [('Umweltwissenschaften', 0.0), ('Medizin', 1.0), ('Landwirtschaft', 2.0), ('Ernährung', 3.0)], [('Umweltwissenschaften', 0.0), ('Medizin', 1.0), ('Ernährung', 2.0), ('Landwirtschaft', 3.0)], [('Umweltwissenschaften', 0.0), ('Landwirtschaft', 1.0), ('Medizin', 2.0), ('Ernährung', 3.0)], [('Umweltwissenschaften', 0.0), ('Landwirtschaft', 1.0), ('Ernährung', 2.0), ('Medizin', 3.0)], [('Umweltwissenschaften', 0.0), ('Ernährung', 1.0), ('Medizin', 2.0), ('Landwirtschaft', 3.0)], [('Umweltwissenschaften', 0.0), ('Ernährung', 1.0), ('Landwirtschaft', 2.0), ('Medizin', 3.0)], [('Ernährung', 0.0), ('Medizin', 1.0), ('Landwirtschaft', 2.0), ('Umweltwissenschaften', 3.0)], [('Ernährung', 0.0), ('Medizin', 1.0), ('Umweltwissenschaften', 2.0), ('Landwirtschaft', 3.0)], [('Ernährung', 0.0), ('Landwirtschaft', 1.0), ('Medizin', 2.0), ('Umweltwissenschaften', 3.0)], [('Ernährung', 0.0), ('Landwirtschaft', 1.0), ('Umweltwissenschaften', 2.0), ('Medizin', 3.0)], [('Ernährung', 0.0), ('Umweltwissenschaften', 1.0), ('Medizin', 2.0), ('Landwirtschaft', 3.0)], [('Ernährung', 0.0), ('Umweltwissenschaften', 1.0), ('Landwirtschaft', 2.0), ('Medizin', 3.0)]]\n"
     ]
    }
   ],
   "source": [
    "#define all possible combinations of the classes\n",
    "classes = ['Medizin', 'Landwirtschaft', 'Umweltwissenschaften', 'Ernährung']\n",
    "topics = [0.0,1.0,2.0,3.0]\n",
    "\n",
    "unique_combinations = []\n",
    "permut = itertools.permutations(classes, len(topics))\n",
    "\n",
    "for comb in permut:\n",
    "    zipped = zip(comb, topics)\n",
    "    unique_combinations.append(list(zipped))\n",
    " \n",
    "# printing unique_combination list\n",
    "#print(unique_combinations)"
   ]
  },
  {
   "cell_type": "code",
   "execution_count": 9,
   "metadata": {},
   "outputs": [],
   "source": [
    "#get lists of pred and true values\n",
    "pred_test = df['topic'].values.tolist()\n",
    "true_test = df['class'].values.tolist()"
   ]
  },
  {
   "cell_type": "code",
   "execution_count": 10,
   "metadata": {},
   "outputs": [],
   "source": [
    "#replace items in predicted list\n",
    "def replace_items(pred_list, true_list):\n",
    "    liste = list(pred_list)\n",
    "    for i in range(len(liste)):\n",
    "        for tupel in true_list:\n",
    "            if liste[i] == tupel[1]:\n",
    "                liste[i] = tupel[0]\n",
    "    return liste"
   ]
  },
  {
   "cell_type": "code",
   "execution_count": 11,
   "metadata": {},
   "outputs": [],
   "source": [
    "#create f1-score for every combination\n",
    "def f1_score(combinations, pred_list, true_list):\n",
    "    result = []\n",
    "    for combi in combinations:\n",
    "        res = {}\n",
    "        pred = replace_items(pred_list,combi)\n",
    "        f1 = metrics.f1_score(true_list, pred, average='weighted')\n",
    "        res.update({'Combi': combi,'f1_score': f1})\n",
    "        result.append(res)\n",
    "    return result"
   ]
  },
  {
   "cell_type": "code",
   "execution_count": 12,
   "metadata": {},
   "outputs": [],
   "source": [
    "#get dictionary for each combination and every score\n",
    "res_dict = f1_score(unique_combinations, pred_test, true_test)"
   ]
  },
  {
   "cell_type": "code",
   "execution_count": 13,
   "metadata": {},
   "outputs": [
    {
     "data": {
      "text/plain": [
       "[0.2674848618667972,\n",
       " 0.2347207129749406,\n",
       " 0.234946932649612,\n",
       " 0.2260381336831592,\n",
       " 0.22606719774999584,\n",
       " 0.24992254767539965,\n",
       " 0.2311360248579004,\n",
       " 0.19837187596604378,\n",
       " 0.19266108274677343,\n",
       " 0.18512267577386618,\n",
       " 0.18378134784715727,\n",
       " 0.20900708976610663,\n",
       " 0.20081049858968458,\n",
       " 0.19190169962323175,\n",
       " 0.19487348569574278,\n",
       " 0.1873350787228355,\n",
       " 0.17731117150434525,\n",
       " 0.17868156349789074,\n",
       " 0.2077583607434947,\n",
       " 0.2316137106688986,\n",
       " 0.20182134784955294,\n",
       " 0.22704708976850232,\n",
       " 0.19313876855777157,\n",
       " 0.1945091605513171]"
      ]
     },
     "execution_count": 13,
     "metadata": {},
     "output_type": "execute_result"
    }
   ],
   "source": [
    "#print all f1-scores in the result dict\n",
    "[x['f1_score'] for x in res_dict]"
   ]
  },
  {
   "cell_type": "code",
   "execution_count": 20,
   "metadata": {},
   "outputs": [],
   "source": [
    "#get highest value of dictionary\n",
    "def highest_val(lst, key, key2):\n",
    "    highest_value = None\n",
    "    for dict in lst:\n",
    "        score = dict[key]\n",
    "        combi = dict[key2]  \n",
    "        if highest_value is None or score > highest_value:\n",
    "            highest_value = score\n",
    "            pred_combi = combi\n",
    "    return highest_value, pred_combi"
   ]
  },
  {
   "cell_type": "code",
   "execution_count": 21,
   "metadata": {},
   "outputs": [],
   "source": [
    "#get the highest values with combination\n",
    "f1 = highest_val(res_dict,'f1_score','Combi')"
   ]
  },
  {
   "cell_type": "code",
   "execution_count": 22,
   "metadata": {},
   "outputs": [
    {
     "data": {
      "text/plain": [
       "(0.2674848618667972,\n",
       " [('Medizin', 0.0),\n",
       "  ('Landwirtschaft', 1.0),\n",
       "  ('Umweltwissenschaften', 2.0),\n",
       "  ('Ernährung', 3.0)])"
      ]
     },
     "execution_count": 22,
     "metadata": {},
     "output_type": "execute_result"
    }
   ],
   "source": [
    "f1"
   ]
  }
 ],
 "metadata": {
  "kernelspec": {
   "display_name": "base",
   "language": "python",
   "name": "python3"
  },
  "language_info": {
   "codemirror_mode": {
    "name": "ipython",
    "version": 3
   },
   "file_extension": ".py",
   "mimetype": "text/x-python",
   "name": "python",
   "nbconvert_exporter": "python",
   "pygments_lexer": "ipython3",
   "version": "3.10.9"
  },
  "orig_nbformat": 4
 },
 "nbformat": 4,
 "nbformat_minor": 2
}
