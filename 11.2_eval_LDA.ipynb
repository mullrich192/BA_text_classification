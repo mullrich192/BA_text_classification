{
 "cells": [
  {
   "attachments": {},
   "cell_type": "markdown",
   "metadata": {},
   "source": [
    "# Evaluation LDA\n",
    "\n",
    "- kombi of different class und topic\n",
    "- mapping averbis klasse mit meiner Zahl\n",
    "- Fehlerrrberechnung - erhalte Zahl ob korrekt oder nicht"
   ]
  },
  {
   "cell_type": "code",
   "execution_count": 13,
   "metadata": {},
   "outputs": [],
   "source": [
    "# imports\n",
    "import pandas as pd\n",
    "import numpy as np\n",
    "import itertools\n",
    "from itertools import permutations\n",
    "from sklearn import metrics"
   ]
  },
  {
   "cell_type": "code",
   "execution_count": 2,
   "metadata": {},
   "outputs": [],
   "source": [
    "#read csv file from predicted topics\n",
    "df = pd.read_csv('/home/ubuntu/ullrich/my_code/data/predicted_LDA.csv', sep=',')"
   ]
  },
  {
   "cell_type": "code",
   "execution_count": 3,
   "metadata": {},
   "outputs": [],
   "source": [
    "# drop unnessecary columns \n",
    "df = df.drop(['Unnamed: 0'], axis=1)\n",
    "# replace topic name\n",
    "df = df.replace({'class':'ErnÃ¤hrung'},{'class':'Ernährung'})"
   ]
  },
  {
   "cell_type": "code",
   "execution_count": 4,
   "metadata": {},
   "outputs": [
    {
     "data": {
      "text/html": [
       "<div>\n",
       "<style scoped>\n",
       "    .dataframe tbody tr th:only-of-type {\n",
       "        vertical-align: middle;\n",
       "    }\n",
       "\n",
       "    .dataframe tbody tr th {\n",
       "        vertical-align: top;\n",
       "    }\n",
       "\n",
       "    .dataframe thead th {\n",
       "        text-align: right;\n",
       "    }\n",
       "</style>\n",
       "<table border=\"1\" class=\"dataframe\">\n",
       "  <thead>\n",
       "    <tr style=\"text-align: right;\">\n",
       "      <th></th>\n",
       "      <th>dbrecordid</th>\n",
       "      <th>combined</th>\n",
       "      <th>topic</th>\n",
       "      <th>certainty</th>\n",
       "      <th>class</th>\n",
       "    </tr>\n",
       "  </thead>\n",
       "  <tbody>\n",
       "    <tr>\n",
       "      <th>0</th>\n",
       "      <td>AGRICOLAIND20439684</td>\n",
       "      <td>genetic markers, products, glycine max, progen...</td>\n",
       "      <td>4.0</td>\n",
       "      <td>0.524350</td>\n",
       "      <td>Landwirtschaft</td>\n",
       "    </tr>\n",
       "    <tr>\n",
       "      <th>1</th>\n",
       "      <td>M35399217</td>\n",
       "      <td>evaluation, momordica charantia, methods, glut...</td>\n",
       "      <td>0.0</td>\n",
       "      <td>0.985263</td>\n",
       "      <td>Ernährung</td>\n",
       "    </tr>\n",
       "    <tr>\n",
       "      <th>2</th>\n",
       "      <td>AGRICOLAIND605620910</td>\n",
       "      <td>economic distribution, approximation, approxim...</td>\n",
       "      <td>3.0</td>\n",
       "      <td>0.754991</td>\n",
       "      <td>Rest</td>\n",
       "    </tr>\n",
       "    <tr>\n",
       "      <th>3</th>\n",
       "      <td>M7452196</td>\n",
       "      <td>environment, experimentation, iris (eye), iris...</td>\n",
       "      <td>2.0</td>\n",
       "      <td>0.981984</td>\n",
       "      <td>Umweltwissenschaften</td>\n",
       "    </tr>\n",
       "    <tr>\n",
       "      <th>4</th>\n",
       "      <td>M7263312</td>\n",
       "      <td>ghana, burkitt lymphoma, burkitt lymphoma, pat...</td>\n",
       "      <td>3.0</td>\n",
       "      <td>0.962820</td>\n",
       "      <td>Rest</td>\n",
       "    </tr>\n",
       "    <tr>\n",
       "      <th>...</th>\n",
       "      <td>...</td>\n",
       "      <td>...</td>\n",
       "      <td>...</td>\n",
       "      <td>...</td>\n",
       "      <td>...</td>\n",
       "    </tr>\n",
       "    <tr>\n",
       "      <th>119630</th>\n",
       "      <td>BASE::ftdoajarticles:oai:doaj.org/article:dc57...</td>\n",
       "      <td>equipment, drugs, redmouth disease, statistica...</td>\n",
       "      <td>NaN</td>\n",
       "      <td>NaN</td>\n",
       "      <td>Rest</td>\n",
       "    </tr>\n",
       "    <tr>\n",
       "      <th>119631</th>\n",
       "      <td>BASE::ftdoajarticles:oai:doaj.org/article:90c1...</td>\n",
       "      <td>buildings, ghana, housing, buildings, building...</td>\n",
       "      <td>0.0</td>\n",
       "      <td>0.807834</td>\n",
       "      <td>Umweltwissenschaften</td>\n",
       "    </tr>\n",
       "    <tr>\n",
       "      <th>119632</th>\n",
       "      <td>M3100915</td>\n",
       "      <td>shigella dysenteriae, shiga toxin, shiga toxin...</td>\n",
       "      <td>NaN</td>\n",
       "      <td>NaN</td>\n",
       "      <td>Ernährung</td>\n",
       "    </tr>\n",
       "    <tr>\n",
       "      <th>119633</th>\n",
       "      <td>TIB729405060</td>\n",
       "      <td>globalization, globalization, globalization, i...</td>\n",
       "      <td>1.0</td>\n",
       "      <td>0.559160</td>\n",
       "      <td>Umweltwissenschaften</td>\n",
       "    </tr>\n",
       "    <tr>\n",
       "      <th>119634</th>\n",
       "      <td>M30754233</td>\n",
       "      <td>mozambique, symptoms, mozambique, poaceae, nec...</td>\n",
       "      <td>0.0</td>\n",
       "      <td>0.794891</td>\n",
       "      <td>Landwirtschaft</td>\n",
       "    </tr>\n",
       "  </tbody>\n",
       "</table>\n",
       "<p>119635 rows × 5 columns</p>\n",
       "</div>"
      ],
      "text/plain": [
       "                                               dbrecordid  \\\n",
       "0                                     AGRICOLAIND20439684   \n",
       "1                                               M35399217   \n",
       "2                                    AGRICOLAIND605620910   \n",
       "3                                                M7452196   \n",
       "4                                                M7263312   \n",
       "...                                                   ...   \n",
       "119630  BASE::ftdoajarticles:oai:doaj.org/article:dc57...   \n",
       "119631  BASE::ftdoajarticles:oai:doaj.org/article:90c1...   \n",
       "119632                                           M3100915   \n",
       "119633                                       TIB729405060   \n",
       "119634                                          M30754233   \n",
       "\n",
       "                                                 combined  topic  certainty  \\\n",
       "0       genetic markers, products, glycine max, progen...    4.0   0.524350   \n",
       "1       evaluation, momordica charantia, methods, glut...    0.0   0.985263   \n",
       "2       economic distribution, approximation, approxim...    3.0   0.754991   \n",
       "3       environment, experimentation, iris (eye), iris...    2.0   0.981984   \n",
       "4       ghana, burkitt lymphoma, burkitt lymphoma, pat...    3.0   0.962820   \n",
       "...                                                   ...    ...        ...   \n",
       "119630  equipment, drugs, redmouth disease, statistica...    NaN        NaN   \n",
       "119631  buildings, ghana, housing, buildings, building...    0.0   0.807834   \n",
       "119632  shigella dysenteriae, shiga toxin, shiga toxin...    NaN        NaN   \n",
       "119633  globalization, globalization, globalization, i...    1.0   0.559160   \n",
       "119634  mozambique, symptoms, mozambique, poaceae, nec...    0.0   0.794891   \n",
       "\n",
       "                       class  \n",
       "0             Landwirtschaft  \n",
       "1                  Ernährung  \n",
       "2                       Rest  \n",
       "3       Umweltwissenschaften  \n",
       "4                       Rest  \n",
       "...                      ...  \n",
       "119630                  Rest  \n",
       "119631  Umweltwissenschaften  \n",
       "119632             Ernährung  \n",
       "119633  Umweltwissenschaften  \n",
       "119634        Landwirtschaft  \n",
       "\n",
       "[119635 rows x 5 columns]"
      ]
     },
     "execution_count": 4,
     "metadata": {},
     "output_type": "execute_result"
    }
   ],
   "source": [
    "df"
   ]
  },
  {
   "cell_type": "code",
   "execution_count": 5,
   "metadata": {},
   "outputs": [
    {
     "name": "stdout",
     "output_type": "stream",
     "text": [
      "<class 'pandas.core.frame.DataFrame'>\n",
      "RangeIndex: 119635 entries, 0 to 119634\n",
      "Data columns (total 5 columns):\n",
      " #   Column      Non-Null Count   Dtype  \n",
      "---  ------      --------------   -----  \n",
      " 0   dbrecordid  119635 non-null  object \n",
      " 1   combined    119635 non-null  object \n",
      " 2   topic       77635 non-null   float64\n",
      " 3   certainty   77635 non-null   float64\n",
      " 4   class       119635 non-null  object \n",
      "dtypes: float64(2), object(3)\n",
      "memory usage: 4.6+ MB\n"
     ]
    }
   ],
   "source": [
    "df.info()"
   ]
  },
  {
   "attachments": {},
   "cell_type": "markdown",
   "metadata": {},
   "source": [
    "- 42.000 none values ?? - Text beinhaltet kein Wort aus der Themenklasse - Beschiss\n",
    "- unter 60 % raus "
   ]
  },
  {
   "cell_type": "code",
   "execution_count": 6,
   "metadata": {},
   "outputs": [],
   "source": [
    "df_test = df[(df['certainty'] is not None) & (df['certainty'] >= 0.6 )]"
   ]
  },
  {
   "cell_type": "code",
   "execution_count": 7,
   "metadata": {},
   "outputs": [
    {
     "name": "stdout",
     "output_type": "stream",
     "text": [
      "[[('Medizin', 0.0), ('Landwirtschaft', 1.0), ('Umweltwissenschaften', 2.0), ('Ernährung', 3.0), ('Rest', 4.0)], [('Medizin', 0.0), ('Landwirtschaft', 1.0), ('Umweltwissenschaften', 2.0), ('Rest', 3.0), ('Ernährung', 4.0)], [('Medizin', 0.0), ('Landwirtschaft', 1.0), ('Ernährung', 2.0), ('Umweltwissenschaften', 3.0), ('Rest', 4.0)], [('Medizin', 0.0), ('Landwirtschaft', 1.0), ('Ernährung', 2.0), ('Rest', 3.0), ('Umweltwissenschaften', 4.0)], [('Medizin', 0.0), ('Landwirtschaft', 1.0), ('Rest', 2.0), ('Umweltwissenschaften', 3.0), ('Ernährung', 4.0)], [('Medizin', 0.0), ('Landwirtschaft', 1.0), ('Rest', 2.0), ('Ernährung', 3.0), ('Umweltwissenschaften', 4.0)], [('Medizin', 0.0), ('Umweltwissenschaften', 1.0), ('Landwirtschaft', 2.0), ('Ernährung', 3.0), ('Rest', 4.0)], [('Medizin', 0.0), ('Umweltwissenschaften', 1.0), ('Landwirtschaft', 2.0), ('Rest', 3.0), ('Ernährung', 4.0)], [('Medizin', 0.0), ('Umweltwissenschaften', 1.0), ('Ernährung', 2.0), ('Landwirtschaft', 3.0), ('Rest', 4.0)], [('Medizin', 0.0), ('Umweltwissenschaften', 1.0), ('Ernährung', 2.0), ('Rest', 3.0), ('Landwirtschaft', 4.0)], [('Medizin', 0.0), ('Umweltwissenschaften', 1.0), ('Rest', 2.0), ('Landwirtschaft', 3.0), ('Ernährung', 4.0)], [('Medizin', 0.0), ('Umweltwissenschaften', 1.0), ('Rest', 2.0), ('Ernährung', 3.0), ('Landwirtschaft', 4.0)], [('Medizin', 0.0), ('Ernährung', 1.0), ('Landwirtschaft', 2.0), ('Umweltwissenschaften', 3.0), ('Rest', 4.0)], [('Medizin', 0.0), ('Ernährung', 1.0), ('Landwirtschaft', 2.0), ('Rest', 3.0), ('Umweltwissenschaften', 4.0)], [('Medizin', 0.0), ('Ernährung', 1.0), ('Umweltwissenschaften', 2.0), ('Landwirtschaft', 3.0), ('Rest', 4.0)], [('Medizin', 0.0), ('Ernährung', 1.0), ('Umweltwissenschaften', 2.0), ('Rest', 3.0), ('Landwirtschaft', 4.0)], [('Medizin', 0.0), ('Ernährung', 1.0), ('Rest', 2.0), ('Landwirtschaft', 3.0), ('Umweltwissenschaften', 4.0)], [('Medizin', 0.0), ('Ernährung', 1.0), ('Rest', 2.0), ('Umweltwissenschaften', 3.0), ('Landwirtschaft', 4.0)], [('Medizin', 0.0), ('Rest', 1.0), ('Landwirtschaft', 2.0), ('Umweltwissenschaften', 3.0), ('Ernährung', 4.0)], [('Medizin', 0.0), ('Rest', 1.0), ('Landwirtschaft', 2.0), ('Ernährung', 3.0), ('Umweltwissenschaften', 4.0)], [('Medizin', 0.0), ('Rest', 1.0), ('Umweltwissenschaften', 2.0), ('Landwirtschaft', 3.0), ('Ernährung', 4.0)], [('Medizin', 0.0), ('Rest', 1.0), ('Umweltwissenschaften', 2.0), ('Ernährung', 3.0), ('Landwirtschaft', 4.0)], [('Medizin', 0.0), ('Rest', 1.0), ('Ernährung', 2.0), ('Landwirtschaft', 3.0), ('Umweltwissenschaften', 4.0)], [('Medizin', 0.0), ('Rest', 1.0), ('Ernährung', 2.0), ('Umweltwissenschaften', 3.0), ('Landwirtschaft', 4.0)], [('Landwirtschaft', 0.0), ('Medizin', 1.0), ('Umweltwissenschaften', 2.0), ('Ernährung', 3.0), ('Rest', 4.0)], [('Landwirtschaft', 0.0), ('Medizin', 1.0), ('Umweltwissenschaften', 2.0), ('Rest', 3.0), ('Ernährung', 4.0)], [('Landwirtschaft', 0.0), ('Medizin', 1.0), ('Ernährung', 2.0), ('Umweltwissenschaften', 3.0), ('Rest', 4.0)], [('Landwirtschaft', 0.0), ('Medizin', 1.0), ('Ernährung', 2.0), ('Rest', 3.0), ('Umweltwissenschaften', 4.0)], [('Landwirtschaft', 0.0), ('Medizin', 1.0), ('Rest', 2.0), ('Umweltwissenschaften', 3.0), ('Ernährung', 4.0)], [('Landwirtschaft', 0.0), ('Medizin', 1.0), ('Rest', 2.0), ('Ernährung', 3.0), ('Umweltwissenschaften', 4.0)], [('Landwirtschaft', 0.0), ('Umweltwissenschaften', 1.0), ('Medizin', 2.0), ('Ernährung', 3.0), ('Rest', 4.0)], [('Landwirtschaft', 0.0), ('Umweltwissenschaften', 1.0), ('Medizin', 2.0), ('Rest', 3.0), ('Ernährung', 4.0)], [('Landwirtschaft', 0.0), ('Umweltwissenschaften', 1.0), ('Ernährung', 2.0), ('Medizin', 3.0), ('Rest', 4.0)], [('Landwirtschaft', 0.0), ('Umweltwissenschaften', 1.0), ('Ernährung', 2.0), ('Rest', 3.0), ('Medizin', 4.0)], [('Landwirtschaft', 0.0), ('Umweltwissenschaften', 1.0), ('Rest', 2.0), ('Medizin', 3.0), ('Ernährung', 4.0)], [('Landwirtschaft', 0.0), ('Umweltwissenschaften', 1.0), ('Rest', 2.0), ('Ernährung', 3.0), ('Medizin', 4.0)], [('Landwirtschaft', 0.0), ('Ernährung', 1.0), ('Medizin', 2.0), ('Umweltwissenschaften', 3.0), ('Rest', 4.0)], [('Landwirtschaft', 0.0), ('Ernährung', 1.0), ('Medizin', 2.0), ('Rest', 3.0), ('Umweltwissenschaften', 4.0)], [('Landwirtschaft', 0.0), ('Ernährung', 1.0), ('Umweltwissenschaften', 2.0), ('Medizin', 3.0), ('Rest', 4.0)], [('Landwirtschaft', 0.0), ('Ernährung', 1.0), ('Umweltwissenschaften', 2.0), ('Rest', 3.0), ('Medizin', 4.0)], [('Landwirtschaft', 0.0), ('Ernährung', 1.0), ('Rest', 2.0), ('Medizin', 3.0), ('Umweltwissenschaften', 4.0)], [('Landwirtschaft', 0.0), ('Ernährung', 1.0), ('Rest', 2.0), ('Umweltwissenschaften', 3.0), ('Medizin', 4.0)], [('Landwirtschaft', 0.0), ('Rest', 1.0), ('Medizin', 2.0), ('Umweltwissenschaften', 3.0), ('Ernährung', 4.0)], [('Landwirtschaft', 0.0), ('Rest', 1.0), ('Medizin', 2.0), ('Ernährung', 3.0), ('Umweltwissenschaften', 4.0)], [('Landwirtschaft', 0.0), ('Rest', 1.0), ('Umweltwissenschaften', 2.0), ('Medizin', 3.0), ('Ernährung', 4.0)], [('Landwirtschaft', 0.0), ('Rest', 1.0), ('Umweltwissenschaften', 2.0), ('Ernährung', 3.0), ('Medizin', 4.0)], [('Landwirtschaft', 0.0), ('Rest', 1.0), ('Ernährung', 2.0), ('Medizin', 3.0), ('Umweltwissenschaften', 4.0)], [('Landwirtschaft', 0.0), ('Rest', 1.0), ('Ernährung', 2.0), ('Umweltwissenschaften', 3.0), ('Medizin', 4.0)], [('Umweltwissenschaften', 0.0), ('Medizin', 1.0), ('Landwirtschaft', 2.0), ('Ernährung', 3.0), ('Rest', 4.0)], [('Umweltwissenschaften', 0.0), ('Medizin', 1.0), ('Landwirtschaft', 2.0), ('Rest', 3.0), ('Ernährung', 4.0)], [('Umweltwissenschaften', 0.0), ('Medizin', 1.0), ('Ernährung', 2.0), ('Landwirtschaft', 3.0), ('Rest', 4.0)], [('Umweltwissenschaften', 0.0), ('Medizin', 1.0), ('Ernährung', 2.0), ('Rest', 3.0), ('Landwirtschaft', 4.0)], [('Umweltwissenschaften', 0.0), ('Medizin', 1.0), ('Rest', 2.0), ('Landwirtschaft', 3.0), ('Ernährung', 4.0)], [('Umweltwissenschaften', 0.0), ('Medizin', 1.0), ('Rest', 2.0), ('Ernährung', 3.0), ('Landwirtschaft', 4.0)], [('Umweltwissenschaften', 0.0), ('Landwirtschaft', 1.0), ('Medizin', 2.0), ('Ernährung', 3.0), ('Rest', 4.0)], [('Umweltwissenschaften', 0.0), ('Landwirtschaft', 1.0), ('Medizin', 2.0), ('Rest', 3.0), ('Ernährung', 4.0)], [('Umweltwissenschaften', 0.0), ('Landwirtschaft', 1.0), ('Ernährung', 2.0), ('Medizin', 3.0), ('Rest', 4.0)], [('Umweltwissenschaften', 0.0), ('Landwirtschaft', 1.0), ('Ernährung', 2.0), ('Rest', 3.0), ('Medizin', 4.0)], [('Umweltwissenschaften', 0.0), ('Landwirtschaft', 1.0), ('Rest', 2.0), ('Medizin', 3.0), ('Ernährung', 4.0)], [('Umweltwissenschaften', 0.0), ('Landwirtschaft', 1.0), ('Rest', 2.0), ('Ernährung', 3.0), ('Medizin', 4.0)], [('Umweltwissenschaften', 0.0), ('Ernährung', 1.0), ('Medizin', 2.0), ('Landwirtschaft', 3.0), ('Rest', 4.0)], [('Umweltwissenschaften', 0.0), ('Ernährung', 1.0), ('Medizin', 2.0), ('Rest', 3.0), ('Landwirtschaft', 4.0)], [('Umweltwissenschaften', 0.0), ('Ernährung', 1.0), ('Landwirtschaft', 2.0), ('Medizin', 3.0), ('Rest', 4.0)], [('Umweltwissenschaften', 0.0), ('Ernährung', 1.0), ('Landwirtschaft', 2.0), ('Rest', 3.0), ('Medizin', 4.0)], [('Umweltwissenschaften', 0.0), ('Ernährung', 1.0), ('Rest', 2.0), ('Medizin', 3.0), ('Landwirtschaft', 4.0)], [('Umweltwissenschaften', 0.0), ('Ernährung', 1.0), ('Rest', 2.0), ('Landwirtschaft', 3.0), ('Medizin', 4.0)], [('Umweltwissenschaften', 0.0), ('Rest', 1.0), ('Medizin', 2.0), ('Landwirtschaft', 3.0), ('Ernährung', 4.0)], [('Umweltwissenschaften', 0.0), ('Rest', 1.0), ('Medizin', 2.0), ('Ernährung', 3.0), ('Landwirtschaft', 4.0)], [('Umweltwissenschaften', 0.0), ('Rest', 1.0), ('Landwirtschaft', 2.0), ('Medizin', 3.0), ('Ernährung', 4.0)], [('Umweltwissenschaften', 0.0), ('Rest', 1.0), ('Landwirtschaft', 2.0), ('Ernährung', 3.0), ('Medizin', 4.0)], [('Umweltwissenschaften', 0.0), ('Rest', 1.0), ('Ernährung', 2.0), ('Medizin', 3.0), ('Landwirtschaft', 4.0)], [('Umweltwissenschaften', 0.0), ('Rest', 1.0), ('Ernährung', 2.0), ('Landwirtschaft', 3.0), ('Medizin', 4.0)], [('Ernährung', 0.0), ('Medizin', 1.0), ('Landwirtschaft', 2.0), ('Umweltwissenschaften', 3.0), ('Rest', 4.0)], [('Ernährung', 0.0), ('Medizin', 1.0), ('Landwirtschaft', 2.0), ('Rest', 3.0), ('Umweltwissenschaften', 4.0)], [('Ernährung', 0.0), ('Medizin', 1.0), ('Umweltwissenschaften', 2.0), ('Landwirtschaft', 3.0), ('Rest', 4.0)], [('Ernährung', 0.0), ('Medizin', 1.0), ('Umweltwissenschaften', 2.0), ('Rest', 3.0), ('Landwirtschaft', 4.0)], [('Ernährung', 0.0), ('Medizin', 1.0), ('Rest', 2.0), ('Landwirtschaft', 3.0), ('Umweltwissenschaften', 4.0)], [('Ernährung', 0.0), ('Medizin', 1.0), ('Rest', 2.0), ('Umweltwissenschaften', 3.0), ('Landwirtschaft', 4.0)], [('Ernährung', 0.0), ('Landwirtschaft', 1.0), ('Medizin', 2.0), ('Umweltwissenschaften', 3.0), ('Rest', 4.0)], [('Ernährung', 0.0), ('Landwirtschaft', 1.0), ('Medizin', 2.0), ('Rest', 3.0), ('Umweltwissenschaften', 4.0)], [('Ernährung', 0.0), ('Landwirtschaft', 1.0), ('Umweltwissenschaften', 2.0), ('Medizin', 3.0), ('Rest', 4.0)], [('Ernährung', 0.0), ('Landwirtschaft', 1.0), ('Umweltwissenschaften', 2.0), ('Rest', 3.0), ('Medizin', 4.0)], [('Ernährung', 0.0), ('Landwirtschaft', 1.0), ('Rest', 2.0), ('Medizin', 3.0), ('Umweltwissenschaften', 4.0)], [('Ernährung', 0.0), ('Landwirtschaft', 1.0), ('Rest', 2.0), ('Umweltwissenschaften', 3.0), ('Medizin', 4.0)], [('Ernährung', 0.0), ('Umweltwissenschaften', 1.0), ('Medizin', 2.0), ('Landwirtschaft', 3.0), ('Rest', 4.0)], [('Ernährung', 0.0), ('Umweltwissenschaften', 1.0), ('Medizin', 2.0), ('Rest', 3.0), ('Landwirtschaft', 4.0)], [('Ernährung', 0.0), ('Umweltwissenschaften', 1.0), ('Landwirtschaft', 2.0), ('Medizin', 3.0), ('Rest', 4.0)], [('Ernährung', 0.0), ('Umweltwissenschaften', 1.0), ('Landwirtschaft', 2.0), ('Rest', 3.0), ('Medizin', 4.0)], [('Ernährung', 0.0), ('Umweltwissenschaften', 1.0), ('Rest', 2.0), ('Medizin', 3.0), ('Landwirtschaft', 4.0)], [('Ernährung', 0.0), ('Umweltwissenschaften', 1.0), ('Rest', 2.0), ('Landwirtschaft', 3.0), ('Medizin', 4.0)], [('Ernährung', 0.0), ('Rest', 1.0), ('Medizin', 2.0), ('Landwirtschaft', 3.0), ('Umweltwissenschaften', 4.0)], [('Ernährung', 0.0), ('Rest', 1.0), ('Medizin', 2.0), ('Umweltwissenschaften', 3.0), ('Landwirtschaft', 4.0)], [('Ernährung', 0.0), ('Rest', 1.0), ('Landwirtschaft', 2.0), ('Medizin', 3.0), ('Umweltwissenschaften', 4.0)], [('Ernährung', 0.0), ('Rest', 1.0), ('Landwirtschaft', 2.0), ('Umweltwissenschaften', 3.0), ('Medizin', 4.0)], [('Ernährung', 0.0), ('Rest', 1.0), ('Umweltwissenschaften', 2.0), ('Medizin', 3.0), ('Landwirtschaft', 4.0)], [('Ernährung', 0.0), ('Rest', 1.0), ('Umweltwissenschaften', 2.0), ('Landwirtschaft', 3.0), ('Medizin', 4.0)], [('Rest', 0.0), ('Medizin', 1.0), ('Landwirtschaft', 2.0), ('Umweltwissenschaften', 3.0), ('Ernährung', 4.0)], [('Rest', 0.0), ('Medizin', 1.0), ('Landwirtschaft', 2.0), ('Ernährung', 3.0), ('Umweltwissenschaften', 4.0)], [('Rest', 0.0), ('Medizin', 1.0), ('Umweltwissenschaften', 2.0), ('Landwirtschaft', 3.0), ('Ernährung', 4.0)], [('Rest', 0.0), ('Medizin', 1.0), ('Umweltwissenschaften', 2.0), ('Ernährung', 3.0), ('Landwirtschaft', 4.0)], [('Rest', 0.0), ('Medizin', 1.0), ('Ernährung', 2.0), ('Landwirtschaft', 3.0), ('Umweltwissenschaften', 4.0)], [('Rest', 0.0), ('Medizin', 1.0), ('Ernährung', 2.0), ('Umweltwissenschaften', 3.0), ('Landwirtschaft', 4.0)], [('Rest', 0.0), ('Landwirtschaft', 1.0), ('Medizin', 2.0), ('Umweltwissenschaften', 3.0), ('Ernährung', 4.0)], [('Rest', 0.0), ('Landwirtschaft', 1.0), ('Medizin', 2.0), ('Ernährung', 3.0), ('Umweltwissenschaften', 4.0)], [('Rest', 0.0), ('Landwirtschaft', 1.0), ('Umweltwissenschaften', 2.0), ('Medizin', 3.0), ('Ernährung', 4.0)], [('Rest', 0.0), ('Landwirtschaft', 1.0), ('Umweltwissenschaften', 2.0), ('Ernährung', 3.0), ('Medizin', 4.0)], [('Rest', 0.0), ('Landwirtschaft', 1.0), ('Ernährung', 2.0), ('Medizin', 3.0), ('Umweltwissenschaften', 4.0)], [('Rest', 0.0), ('Landwirtschaft', 1.0), ('Ernährung', 2.0), ('Umweltwissenschaften', 3.0), ('Medizin', 4.0)], [('Rest', 0.0), ('Umweltwissenschaften', 1.0), ('Medizin', 2.0), ('Landwirtschaft', 3.0), ('Ernährung', 4.0)], [('Rest', 0.0), ('Umweltwissenschaften', 1.0), ('Medizin', 2.0), ('Ernährung', 3.0), ('Landwirtschaft', 4.0)], [('Rest', 0.0), ('Umweltwissenschaften', 1.0), ('Landwirtschaft', 2.0), ('Medizin', 3.0), ('Ernährung', 4.0)], [('Rest', 0.0), ('Umweltwissenschaften', 1.0), ('Landwirtschaft', 2.0), ('Ernährung', 3.0), ('Medizin', 4.0)], [('Rest', 0.0), ('Umweltwissenschaften', 1.0), ('Ernährung', 2.0), ('Medizin', 3.0), ('Landwirtschaft', 4.0)], [('Rest', 0.0), ('Umweltwissenschaften', 1.0), ('Ernährung', 2.0), ('Landwirtschaft', 3.0), ('Medizin', 4.0)], [('Rest', 0.0), ('Ernährung', 1.0), ('Medizin', 2.0), ('Landwirtschaft', 3.0), ('Umweltwissenschaften', 4.0)], [('Rest', 0.0), ('Ernährung', 1.0), ('Medizin', 2.0), ('Umweltwissenschaften', 3.0), ('Landwirtschaft', 4.0)], [('Rest', 0.0), ('Ernährung', 1.0), ('Landwirtschaft', 2.0), ('Medizin', 3.0), ('Umweltwissenschaften', 4.0)], [('Rest', 0.0), ('Ernährung', 1.0), ('Landwirtschaft', 2.0), ('Umweltwissenschaften', 3.0), ('Medizin', 4.0)], [('Rest', 0.0), ('Ernährung', 1.0), ('Umweltwissenschaften', 2.0), ('Medizin', 3.0), ('Landwirtschaft', 4.0)], [('Rest', 0.0), ('Ernährung', 1.0), ('Umweltwissenschaften', 2.0), ('Landwirtschaft', 3.0), ('Medizin', 4.0)]]\n"
     ]
    }
   ],
   "source": [
    "#define all possible combinations of the classes\n",
    "classes = ['Medizin', 'Landwirtschaft', 'Umweltwissenschaften', 'Ernährung', 'Rest']\n",
    "topics = [0.0,1.0,2.0,3.0,4.0]\n",
    "\n",
    "unique_combinations = []\n",
    "permut = itertools.permutations(classes, len(topics))\n",
    "\n",
    "for comb in permut:\n",
    "    zipped = zip(comb, topics)\n",
    "    unique_combinations.append(list(zipped))\n",
    " \n",
    "# printing unique_combination list\n",
    "print(unique_combinations)"
   ]
  },
  {
   "cell_type": "code",
   "execution_count": null,
   "metadata": {},
   "outputs": [],
   "source": [
    "#get list of the class and predicted topic\n",
    "pred_averbis = df[['class', 'topic']].values.tolist()"
   ]
  },
  {
   "cell_type": "code",
   "execution_count": 8,
   "metadata": {},
   "outputs": [],
   "source": [
    "pred_averbis_test = df_test[['class', 'topic']].values.tolist()"
   ]
  },
  {
   "cell_type": "code",
   "execution_count": 9,
   "metadata": {},
   "outputs": [],
   "source": [
    "def calculate_acc_score(pred_class, combinations):\n",
    "    result = [] \n",
    "    for combi in combinations:\n",
    "        tmp = {}\n",
    "        total_count = len(pred_class)\n",
    "        match_count = 0\n",
    "        #print(combi)\n",
    "        for item in pred_class:\n",
    "            item = tuple(item)\n",
    "            if item in combi:\n",
    "                match_count = match_count + 1\n",
    "        #print(match_count)        \n",
    "        accuracy = match_count / total_count\n",
    "        tmp.update({'Combi': combi,'match_count': match_count, 'acc_score': accuracy})\n",
    "        result.append(tmp)\n",
    "    return result"
   ]
  },
  {
   "cell_type": "code",
   "execution_count": null,
   "metadata": {},
   "outputs": [],
   "source": [
    "result = calculate_acc_score(pred_averbis, unique_combinations)"
   ]
  },
  {
   "cell_type": "code",
   "execution_count": 10,
   "metadata": {},
   "outputs": [],
   "source": [
    "#get dict of results\n",
    "result_test = calculate_acc_score(pred_averbis_test, unique_combinations)"
   ]
  },
  {
   "cell_type": "code",
   "execution_count": 11,
   "metadata": {},
   "outputs": [],
   "source": [
    "def highest_val(lst, key, key2):\n",
    "    highest_value = None\n",
    "    for dict in lst:\n",
    "        score = dict[key]\n",
    "        combi = dict[key2]  \n",
    "        if highest_value is None or score > highest_value:\n",
    "            highest_value = score\n",
    "            pred_combi = combi\n",
    "    return highest_value, pred_combi"
   ]
  },
  {
   "cell_type": "code",
   "execution_count": null,
   "metadata": {},
   "outputs": [],
   "source": [
    "highest_val(result, 'acc_score', 'Combi')"
   ]
  },
  {
   "cell_type": "code",
   "execution_count": 12,
   "metadata": {},
   "outputs": [
    {
     "data": {
      "text/plain": [
       "(0.23706789355881622,\n",
       " [('Ernährung', 0.0),\n",
       "  ('Landwirtschaft', 1.0),\n",
       "  ('Rest', 2.0),\n",
       "  ('Medizin', 3.0),\n",
       "  ('Umweltwissenschaften', 4.0)])"
      ]
     },
     "execution_count": 12,
     "metadata": {},
     "output_type": "execute_result"
    }
   ],
   "source": [
    "highest_val(result_test, 'acc_score', 'Combi')"
   ]
  },
  {
   "attachments": {},
   "cell_type": "markdown",
   "metadata": {},
   "source": [
    "- true = items aus pred_averbis, die in meiner kombination vorkommen\n",
    "- pred = alle Elemente, die in Liste vorkommen, werden auf True gesetzt, da sie als positiv betrachtet werden"
   ]
  },
  {
   "cell_type": "code",
   "execution_count": 14,
   "metadata": {},
   "outputs": [],
   "source": [
    "#convert items into tuples\n",
    "pred_averbis_test = [tuple(i) for i in pred_averbis_test]"
   ]
  },
  {
   "cell_type": "code",
   "execution_count": 15,
   "metadata": {},
   "outputs": [],
   "source": [
    "def calculation(combinations, pred_class):\n",
    "    result = [] \n",
    "    for combi in combinations:\n",
    "        tmp = {}\n",
    "        trues = [item in combi for item in pred_class]\n",
    "        f1 = metrics.f1_score(trues, [True] * len(trues), average='weighted')\n",
    "        tmp.update({'Combi': combi,'f1_score': f1})\n",
    "        result.append(tmp)\n",
    "    return result"
   ]
  },
  {
   "cell_type": "code",
   "execution_count": 16,
   "metadata": {},
   "outputs": [],
   "source": [
    "res = calculation(unique_combinations, pred_averbis_test)"
   ]
  },
  {
   "cell_type": "code",
   "execution_count": 17,
   "metadata": {},
   "outputs": [],
   "source": [
    "high_f1 = highest_val(res, 'f1_score', 'Combi')"
   ]
  },
  {
   "cell_type": "code",
   "execution_count": 18,
   "metadata": {},
   "outputs": [
    {
     "data": {
      "text/plain": [
       "(0.09086192673667047,\n",
       " [('Ernährung', 0.0),\n",
       "  ('Landwirtschaft', 1.0),\n",
       "  ('Rest', 2.0),\n",
       "  ('Medizin', 3.0),\n",
       "  ('Umweltwissenschaften', 4.0)])"
      ]
     },
     "execution_count": 18,
     "metadata": {},
     "output_type": "execute_result"
    }
   ],
   "source": [
    "high_f1"
   ]
  },
  {
   "cell_type": "code",
   "execution_count": null,
   "metadata": {},
   "outputs": [],
   "source": [
    "result"
   ]
  }
 ],
 "metadata": {
  "kernelspec": {
   "display_name": "base",
   "language": "python",
   "name": "python3"
  },
  "language_info": {
   "codemirror_mode": {
    "name": "ipython",
    "version": 3
   },
   "file_extension": ".py",
   "mimetype": "text/x-python",
   "name": "python",
   "nbconvert_exporter": "python",
   "pygments_lexer": "ipython3",
   "version": "3.10.9"
  },
  "orig_nbformat": 4
 },
 "nbformat": 4,
 "nbformat_minor": 2
}
