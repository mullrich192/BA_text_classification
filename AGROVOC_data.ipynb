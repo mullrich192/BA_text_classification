{
 "cells": [
  {
   "attachments": {},
   "cell_type": "markdown",
   "metadata": {},
   "source": [
    "# AGROVOC"
   ]
  },
  {
   "cell_type": "code",
   "execution_count": 52,
   "metadata": {},
   "outputs": [],
   "source": [
    "#imports\n",
    "import pandas as pd\n",
    "import pickle\n",
    "import warnings\n",
    "\n",
    "from multiprocessing import Process\n",
    "import concurrent.futures as cf\n",
    "from tqdm import tqdm\n",
    "\n",
    "from keyword_extraction import DictLU_Create_Dict\n",
    "\n",
    "import rdflib\n",
    "from rdflib import Graph, URIRef, Literal, Namespace\n",
    "from rdflib.namespace import DC, DCTERMS, DOAP, FOAF, SKOS, OWL, RDF, RDFS, VOID, XMLNS, XSD"
   ]
  },
  {
   "cell_type": "code",
   "execution_count": 2,
   "metadata": {},
   "outputs": [],
   "source": [
    "#settings \n",
    "warnings.simplefilter(action='ignore', category=FutureWarning)"
   ]
  },
  {
   "attachments": {},
   "cell_type": "markdown",
   "metadata": {},
   "source": [
    "## get data from Agrovoc"
   ]
  },
  {
   "cell_type": "code",
   "execution_count": 3,
   "metadata": {},
   "outputs": [],
   "source": [
    "#parse graph from RDF-file\n",
    "def parse_graph(path,file_format):\n",
    "    g = rdflib.Graph()\n",
    "    g.parse(path, format= file_format)\n",
    "    return g\n",
    "\n",
    "with cf.ProcessPoolExecutor(max_workers=12) as executor:\n",
    "    future = executor.submit(parse_graph, '/home/ubuntu/ullrich/my_code/data/agrovoc_2023-04-04_core.nt', 'nt11')\n",
    "    result = future.result()"
   ]
  },
  {
   "cell_type": "code",
   "execution_count": 25,
   "metadata": {},
   "outputs": [],
   "source": [
    "#extracte terms and synonyms from graph with sparql-query\n",
    "def extract_terms(sparql_query, prefix1, namespace1, prefix2, namespace2):\n",
    "    terms = pd.DataFrame()\n",
    "    synonyms = pd.DataFrame()\n",
    "    res = result.query(sparql_query, initNs={prefix1: namespace1, prefix2:namespace2})\n",
    "    for x in res:\n",
    "        terms = terms.append({'id': x.concept, 'term': x.dePrefLabel},ignore_index=True)\n",
    "        synonyms = synonyms.append({'id': x.concept, 'term': x.deAltLabel},ignore_index=True)\n",
    "    return terms, synonyms"
   ]
  },
  {
   "cell_type": "code",
   "execution_count": 26,
   "metadata": {},
   "outputs": [],
   "source": [
    "#define namespace\n",
    "prefix_skosxl = 'skosxl'\n",
    "SKOSXL = Namespace(\"http://www.w3.org/2008/05/skos-xl#\")\n",
    "prefix_skos = 'skos'\n",
    "SKOS = Namespace('http://www.w3.org/2004/02/skos/core#')\n",
    "\n",
    "# formulate SPARQL-query\n",
    "query = \"\"\"\n",
    "SELECT ?concept ?dePrefLabel ?deAltLabel\n",
    "WHERE { \n",
    "  ?concept a skos:Concept .\n",
    "  ?concept skosxl:prefLabel/skosxl:literalForm ?dePrefLabel .\n",
    "  ?concept skosxl:altLabel/skosxl:literalForm ?deAltLabel .\n",
    "  FILTER (lang(?dePrefLabel) = 'de' && lang(?deAltLabel) = 'de')\n",
    "}\n",
    "LIMIT 1000\n",
    "\"\"\"\n",
    "...\n",
    "# start the process pool\n",
    "with cf.ProcessPoolExecutor(max_workers=12) as executor:\n",
    "    future_query = executor.submit(extract_terms, query, prefix_skosxl, SKOSXL, prefix_skos, SKOS)\n",
    "    result_query = future_query.result()"
   ]
  },
  {
   "attachments": {},
   "cell_type": "markdown",
   "metadata": {},
   "source": [
    "## preprocess dataframes"
   ]
  },
  {
   "cell_type": "code",
   "execution_count": 35,
   "metadata": {},
   "outputs": [],
   "source": [
    "#drop duplicates\n",
    "terms = result_query[0].drop_duplicates()\n",
    "synonyms = result_query[1].drop_duplicates()"
   ]
  },
  {
   "cell_type": "code",
   "execution_count": 36,
   "metadata": {},
   "outputs": [],
   "source": [
    "#split column ID to get only the ID\n",
    "def split_ID(df):\n",
    "    df['id'] = df['id'].str.split('/')\n",
    "    liste = [] \n",
    "    for x in df['id']:\n",
    "        liste.append(x[len(df['id'][0])-1])\n",
    "    df['id'] = liste"
   ]
  },
  {
   "cell_type": "code",
   "execution_count": 37,
   "metadata": {},
   "outputs": [
    {
     "name": "stderr",
     "output_type": "stream",
     "text": [
      "/tmp/ipykernel_6528/655089444.py:3: SettingWithCopyWarning: \n",
      "A value is trying to be set on a copy of a slice from a DataFrame.\n",
      "Try using .loc[row_indexer,col_indexer] = value instead\n",
      "\n",
      "See the caveats in the documentation: https://pandas.pydata.org/pandas-docs/stable/user_guide/indexing.html#returning-a-view-versus-a-copy\n",
      "  df['id'] = df['id'].str.split('/')\n",
      "/tmp/ipykernel_6528/655089444.py:7: SettingWithCopyWarning: \n",
      "A value is trying to be set on a copy of a slice from a DataFrame.\n",
      "Try using .loc[row_indexer,col_indexer] = value instead\n",
      "\n",
      "See the caveats in the documentation: https://pandas.pydata.org/pandas-docs/stable/user_guide/indexing.html#returning-a-view-versus-a-copy\n",
      "  df['id'] = liste\n"
     ]
    }
   ],
   "source": [
    "split_ID(terms)\n",
    "split_ID(synonyms)"
   ]
  },
  {
   "attachments": {},
   "cell_type": "markdown",
   "metadata": {},
   "source": [
    "# TO DO\n",
    "- Bereinigung der Wörter - z.B. (Tier)\n",
    "- mehrere Sprachen einbauen\n",
    "- extract keyword Funktion mit mehreren Themengebieten\n",
    "- progress bar ?"
   ]
  },
  {
   "cell_type": "code",
   "execution_count": 72,
   "metadata": {},
   "outputs": [
    {
     "data": {
      "text/html": [
       "<div>\n",
       "<style scoped>\n",
       "    .dataframe tbody tr th:only-of-type {\n",
       "        vertical-align: middle;\n",
       "    }\n",
       "\n",
       "    .dataframe tbody tr th {\n",
       "        vertical-align: top;\n",
       "    }\n",
       "\n",
       "    .dataframe thead th {\n",
       "        text-align: right;\n",
       "    }\n",
       "</style>\n",
       "<table border=\"1\" class=\"dataframe\">\n",
       "  <thead>\n",
       "    <tr style=\"text-align: right;\">\n",
       "      <th></th>\n",
       "      <th>id</th>\n",
       "      <th>term</th>\n",
       "    </tr>\n",
       "  </thead>\n",
       "  <tbody>\n",
       "    <tr>\n",
       "      <th>0</th>\n",
       "      <td>c_4788</td>\n",
       "      <td>Methode</td>\n",
       "    </tr>\n",
       "    <tr>\n",
       "      <th>1</th>\n",
       "      <td>c_2208</td>\n",
       "      <td>Entwurf</td>\n",
       "    </tr>\n",
       "    <tr>\n",
       "      <th>2</th>\n",
       "      <td>c_27596</td>\n",
       "      <td>Fortpflanzungskontrolle</td>\n",
       "    </tr>\n",
       "    <tr>\n",
       "      <th>3</th>\n",
       "      <td>c_432</td>\n",
       "      <td>Tierhaltungsanlage</td>\n",
       "    </tr>\n",
       "    <tr>\n",
       "      <th>5</th>\n",
       "      <td>c_1375</td>\n",
       "      <td>Kastration</td>\n",
       "    </tr>\n",
       "    <tr>\n",
       "      <th>...</th>\n",
       "      <td>...</td>\n",
       "      <td>...</td>\n",
       "    </tr>\n",
       "    <tr>\n",
       "      <th>995</th>\n",
       "      <td>c_13555</td>\n",
       "      <td>Putenküken</td>\n",
       "    </tr>\n",
       "    <tr>\n",
       "      <th>996</th>\n",
       "      <td>c_11373</td>\n",
       "      <td>Rauhfusshuhn</td>\n",
       "    </tr>\n",
       "    <tr>\n",
       "      <th>997</th>\n",
       "      <td>c_2352</td>\n",
       "      <td>Hund</td>\n",
       "    </tr>\n",
       "    <tr>\n",
       "      <th>998</th>\n",
       "      <td>c_3698</td>\n",
       "      <td>Jagdhund</td>\n",
       "    </tr>\n",
       "    <tr>\n",
       "      <th>999</th>\n",
       "      <td>c_7031</td>\n",
       "      <td>Hütehund</td>\n",
       "    </tr>\n",
       "  </tbody>\n",
       "</table>\n",
       "<p>711 rows × 2 columns</p>\n",
       "</div>"
      ],
      "text/plain": [
       "          id                     term\n",
       "0     c_4788                  Methode\n",
       "1     c_2208                  Entwurf\n",
       "2    c_27596  Fortpflanzungskontrolle\n",
       "3      c_432       Tierhaltungsanlage\n",
       "5     c_1375               Kastration\n",
       "..       ...                      ...\n",
       "995  c_13555               Putenküken\n",
       "996  c_11373             Rauhfusshuhn\n",
       "997   c_2352                     Hund\n",
       "998   c_3698                 Jagdhund\n",
       "999   c_7031                 Hütehund\n",
       "\n",
       "[711 rows x 2 columns]"
      ]
     },
     "execution_count": 72,
     "metadata": {},
     "output_type": "execute_result"
    }
   ],
   "source": [
    "terms"
   ]
  },
  {
   "cell_type": "code",
   "execution_count": 73,
   "metadata": {},
   "outputs": [
    {
     "data": {
      "text/html": [
       "<div>\n",
       "<style scoped>\n",
       "    .dataframe tbody tr th:only-of-type {\n",
       "        vertical-align: middle;\n",
       "    }\n",
       "\n",
       "    .dataframe tbody tr th {\n",
       "        vertical-align: top;\n",
       "    }\n",
       "\n",
       "    .dataframe thead th {\n",
       "        text-align: right;\n",
       "    }\n",
       "</style>\n",
       "<table border=\"1\" class=\"dataframe\">\n",
       "  <thead>\n",
       "    <tr style=\"text-align: right;\">\n",
       "      <th></th>\n",
       "      <th>id</th>\n",
       "      <th>term</th>\n",
       "    </tr>\n",
       "  </thead>\n",
       "  <tbody>\n",
       "    <tr>\n",
       "      <th>0</th>\n",
       "      <td>c_4788</td>\n",
       "      <td>Arbeitsverfahren</td>\n",
       "    </tr>\n",
       "    <tr>\n",
       "      <th>1</th>\n",
       "      <td>c_2208</td>\n",
       "      <td>Design</td>\n",
       "    </tr>\n",
       "    <tr>\n",
       "      <th>2</th>\n",
       "      <td>c_27596</td>\n",
       "      <td>Kontrazeption (Tier)</td>\n",
       "    </tr>\n",
       "    <tr>\n",
       "      <th>3</th>\n",
       "      <td>c_432</td>\n",
       "      <td>Stallung</td>\n",
       "    </tr>\n",
       "    <tr>\n",
       "      <th>4</th>\n",
       "      <td>c_432</td>\n",
       "      <td>Unterbringung (Tier)</td>\n",
       "    </tr>\n",
       "    <tr>\n",
       "      <th>...</th>\n",
       "      <td>...</td>\n",
       "      <td>...</td>\n",
       "    </tr>\n",
       "    <tr>\n",
       "      <th>995</th>\n",
       "      <td>c_13555</td>\n",
       "      <td>Truthahnküken</td>\n",
       "    </tr>\n",
       "    <tr>\n",
       "      <th>996</th>\n",
       "      <td>c_11373</td>\n",
       "      <td>Auerhuhn</td>\n",
       "    </tr>\n",
       "    <tr>\n",
       "      <th>997</th>\n",
       "      <td>c_2352</td>\n",
       "      <td>Canis familiaris</td>\n",
       "    </tr>\n",
       "    <tr>\n",
       "      <th>998</th>\n",
       "      <td>c_3698</td>\n",
       "      <td>Hetzhund</td>\n",
       "    </tr>\n",
       "    <tr>\n",
       "      <th>999</th>\n",
       "      <td>c_7031</td>\n",
       "      <td>Hirtenhund</td>\n",
       "    </tr>\n",
       "  </tbody>\n",
       "</table>\n",
       "<p>1000 rows × 2 columns</p>\n",
       "</div>"
      ],
      "text/plain": [
       "          id                  term\n",
       "0     c_4788      Arbeitsverfahren\n",
       "1     c_2208                Design\n",
       "2    c_27596  Kontrazeption (Tier)\n",
       "3      c_432              Stallung\n",
       "4      c_432  Unterbringung (Tier)\n",
       "..       ...                   ...\n",
       "995  c_13555         Truthahnküken\n",
       "996  c_11373              Auerhuhn\n",
       "997   c_2352      Canis familiaris\n",
       "998   c_3698              Hetzhund\n",
       "999   c_7031            Hirtenhund\n",
       "\n",
       "[1000 rows x 2 columns]"
      ]
     },
     "execution_count": 73,
     "metadata": {},
     "output_type": "execute_result"
    }
   ],
   "source": [
    "synonyms"
   ]
  },
  {
   "cell_type": "code",
   "execution_count": 74,
   "metadata": {},
   "outputs": [
    {
     "name": "stdout",
     "output_type": "stream",
     "text": [
      "    -> 1711 terms in total\n",
      "\n"
     ]
    }
   ],
   "source": [
    "lookuplist = pd.concat([terms,synonyms]).reset_index(drop=True)\n",
    "print(f'    -> {len(lookuplist)} terms in total\\n')"
   ]
  },
  {
   "cell_type": "code",
   "execution_count": 78,
   "metadata": {},
   "outputs": [
    {
     "name": "stdout",
     "output_type": "stream",
     "text": [
      "0       NaN\n",
      "1       NaN\n",
      "2       NaN\n",
      "3       NaN\n",
      "4       NaN\n",
      "       ... \n",
      "1706    NaN\n",
      "1707    NaN\n",
      "1708    NaN\n",
      "1709    NaN\n",
      "1710    NaN\n",
      "Name: term, Length: 1711, dtype: object\n"
     ]
    }
   ],
   "source": [
    "print(lookuplist['term'].where(lookuplist['id'] == 'c_15968'))"
   ]
  },
  {
   "cell_type": "code",
   "execution_count": 76,
   "metadata": {},
   "outputs": [],
   "source": [
    "# create dictionary\n",
    "DCC = DictLU_Create_Dict(lookuplist)\n",
    "dicts_lower = DCC.dicts_lower\n",
    "dicts_upper = DCC.dicts_upper"
   ]
  },
  {
   "cell_type": "code",
   "execution_count": 77,
   "metadata": {},
   "outputs": [
    {
     "name": "stdout",
     "output_type": "stream",
     "text": [
      "{rdflib.term.Literal('ELISA', lang='de'): 'c_15968', rdflib.term.Literal('RFLP', lang='de'): 'c_34255', rdflib.term.Literal('PCR', lang='de'): 'c_34079', rdflib.term.Literal('RAPD', lang='de'): 'c_36341', rdflib.term.Literal('IPM', lang='de'): 'c_34030', rdflib.term.Literal('BLUP', lang='de'): 'c_16525', rdflib.term.Literal('AFLP', lang='de'): 'c_331160', rdflib.term.Literal('RUSITEC', lang='de'): 'c_35848', rdflib.term.Literal('CCM', lang='de'): 'c_16171', rdflib.term.Literal('SCP', lang='de'): 'c_7078', rdflib.term.Literal('IKT', lang='de'): 'c_9000083', rdflib.term.Literal('NPN', lang='de'): 'c_24055'}\n"
     ]
    }
   ],
   "source": [
    "for x in dicts_upper:\n",
    "    print(x)"
   ]
  },
  {
   "cell_type": "code",
   "execution_count": 53,
   "metadata": {},
   "outputs": [],
   "source": [
    "with open('AGROVOC_dict_deutsch.p', 'wb') as handle:\n",
    "    pickle.dump([dicts_lower,dicts_upper], handle)"
   ]
  }
 ],
 "metadata": {
  "kernelspec": {
   "display_name": "base",
   "language": "python",
   "name": "python3"
  },
  "language_info": {
   "codemirror_mode": {
    "name": "ipython",
    "version": 3
   },
   "file_extension": ".py",
   "mimetype": "text/x-python",
   "name": "python",
   "nbconvert_exporter": "python",
   "pygments_lexer": "ipython3",
   "version": "3.10.9"
  },
  "orig_nbformat": 4
 },
 "nbformat": 4,
 "nbformat_minor": 2
}
