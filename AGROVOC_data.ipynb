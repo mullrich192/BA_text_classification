{
 "cells": [
  {
   "attachments": {},
   "cell_type": "markdown",
   "metadata": {},
   "source": [
    "# AGROVOC"
   ]
  },
  {
   "cell_type": "code",
   "execution_count": 1,
   "metadata": {},
   "outputs": [],
   "source": [
    "#imports\n",
    "import pandas as pd\n",
    "import pickle\n",
    "import warnings\n",
    "\n",
    "from multiprocessing import Process\n",
    "import concurrent.futures as cf\n",
    "from tqdm import tqdm\n",
    "\n",
    "from keyword_extraction import DictLU_Create_Dict\n",
    "\n",
    "import rdflib\n",
    "from rdflib import Graph, URIRef, Literal, Namespace\n",
    "from rdflib.namespace import DC, DCTERMS, DOAP, FOAF, SKOS, OWL, RDF, RDFS, VOID, XMLNS, XSD"
   ]
  },
  {
   "cell_type": "code",
   "execution_count": 2,
   "metadata": {},
   "outputs": [],
   "source": [
    "#settings \n",
    "warnings.simplefilter(action='ignore', category=FutureWarning)"
   ]
  },
  {
   "attachments": {},
   "cell_type": "markdown",
   "metadata": {},
   "source": [
    "## get data from Agrovoc"
   ]
  },
  {
   "cell_type": "code",
   "execution_count": null,
   "metadata": {},
   "outputs": [],
   "source": [
    "#parse graph from RDF-file\n",
    "def parse_graph(path,file_format):\n",
    "    g = rdflib.Graph()\n",
    "    g.parse(path, format= file_format)\n",
    "    return g\n",
    "\n",
    "with cf.ProcessPoolExecutor(max_workers=12) as executor:\n",
    "    future = executor.submit(parse_graph, '/home/ubuntu/ullrich/my_code/data/agrovoc_2023-04-04_core.nt', 'nt11')\n",
    "    g = future.result()"
   ]
  },
  {
   "cell_type": "code",
   "execution_count": null,
   "metadata": {},
   "outputs": [],
   "source": [
    "#save graph as pickle-file for faster loading\n",
    "with open('AGROVOC_graph.p', 'wb') as handle:\n",
    "    pickle.dump(g, handle)"
   ]
  },
  {
   "cell_type": "code",
   "execution_count": 3,
   "metadata": {},
   "outputs": [],
   "source": [
    "#load pickle file\n",
    "with open('data/AGROVOC_graph.p', 'rb') as handle:\n",
    "    g = pickle.load(handle)"
   ]
  },
  {
   "cell_type": "code",
   "execution_count": 5,
   "metadata": {},
   "outputs": [],
   "source": [
    "#extracte terms and synonyms from graph with sparql-query\n",
    "def extract_terms(sparql_query, prefix1, namespace1, prefix2, namespace2):\n",
    "    terms = pd.DataFrame()\n",
    "    synonyms = pd.DataFrame()\n",
    "    res = g.query(sparql_query, initNs={prefix1: namespace1, prefix2: namespace2})\n",
    "    total_count = 0  # counter for the added elements\n",
    "\n",
    "    for i, x in enumerate(res, 1):\n",
    "        terms = terms.append({'id': x.concept, 'term': str(x.PrefLabel), 'lang': x.lang}, ignore_index=True)\n",
    "        synonyms = synonyms.append({'id': x.concept, 'term': str(x.AltLabel), 'lang': x.lang2}, ignore_index=True)\n",
    "        \n",
    "        if i % 100 == 0:\n",
    "            added_count = i - total_count\n",
    "            total_count = i\n",
    "            print(f\"{added_count} neue Elemente hinzugefügt. Gesamt: {total_count}\")\n",
    "    \n",
    "    return terms, synonyms"
   ]
  },
  {
   "cell_type": "code",
   "execution_count": 6,
   "metadata": {},
   "outputs": [
    {
     "name": "stdout",
     "output_type": "stream",
     "text": [
      "100 neue Elemente hinzugefügt. Gesamt: 100\n",
      "100 neue Elemente hinzugefügt. Gesamt: 200\n",
      "100 neue Elemente hinzugefügt. Gesamt: 300\n",
      "100 neue Elemente hinzugefügt. Gesamt: 400\n",
      "100 neue Elemente hinzugefügt. Gesamt: 500\n",
      "100 neue Elemente hinzugefügt. Gesamt: 600\n",
      "100 neue Elemente hinzugefügt. Gesamt: 700\n",
      "100 neue Elemente hinzugefügt. Gesamt: 800\n",
      "100 neue Elemente hinzugefügt. Gesamt: 900\n",
      "100 neue Elemente hinzugefügt. Gesamt: 1000\n"
     ]
    }
   ],
   "source": [
    "#define namespace\n",
    "prefix_skosxl = 'skosxl'\n",
    "SKOSXL = Namespace(\"http://www.w3.org/2008/05/skos-xl#\")\n",
    "prefix_skos = 'skos'\n",
    "SKOS = Namespace('http://www.w3.org/2004/02/skos/core#')\n",
    "\n",
    "# formulate SPARQL-query\n",
    "query = \"\"\"\n",
    "SELECT ?concept ?PrefLabel ?AltLabel (lang(?PrefLabel) as ?lang) (lang(?AltLabel) as ?lang2)\n",
    "WHERE { \n",
    "  ?concept a skos:Concept .\n",
    "  ?concept skosxl:prefLabel/skosxl:literalForm ?PrefLabel .\n",
    "  ?concept skosxl:altLabel/skosxl:literalForm ?AltLabel .\n",
    "  FILTER (\n",
    "    ((langMatches(lang(?PrefLabel), \"de\") && langMatches(lang(?AltLabel), \"de\")) ||\n",
    "    (langMatches(lang(?PrefLabel), \"fr\") && langMatches(lang(?AltLabel), \"fr\")) ||\n",
    "    (langMatches(lang(?PrefLabel), \"en\") && langMatches(lang(?AltLabel), \"en\")))\n",
    "  )\n",
    "}\n",
    "LIMIT 1000\n",
    "\"\"\"\n",
    "...\n",
    "# start the process pool\n",
    "with cf.ProcessPoolExecutor(max_workers=12) as executor:\n",
    "    future_query = executor.submit(extract_terms, query, prefix_skosxl, SKOSXL, prefix_skos, SKOS)\n",
    "    result_query = future_query.result()"
   ]
  },
  {
   "attachments": {},
   "cell_type": "markdown",
   "metadata": {},
   "source": [
    "## preprocess dataframes and create dictionary"
   ]
  },
  {
   "cell_type": "code",
   "execution_count": null,
   "metadata": {},
   "outputs": [],
   "source": [
    "#split column ID to get only the ID\n",
    "def split_ID(df):\n",
    "    df['id'] = df['id'].str.split('/')\n",
    "    liste = [] \n",
    "    for x in df['id']:\n",
    "        liste.append(x[5])\n",
    "    df['id'] = liste"
   ]
  },
  {
   "cell_type": "code",
   "execution_count": null,
   "metadata": {},
   "outputs": [],
   "source": [
    "def process_df(result):\n",
    "    language = ['de', 'en', 'fr']\n",
    "    terms = pd.DataFrame()\n",
    "    synonyms = pd.DataFrame()\n",
    "\n",
    "    for x in language:\n",
    "        #filter for language\n",
    "        terms = result[0][result[0]['lang'].str.contains(x)]\n",
    "        synonyms = result[1][result[1]['lang'].str.contains(x)]\n",
    "        #drop duplicates\n",
    "        terms = terms.drop_duplicates()\n",
    "        synonyms = synonyms.drop_duplicates()\n",
    "        #split the ids\n",
    "        split_ID(terms)\n",
    "        split_ID(synonyms)\n",
    "        #concat list of terms and synonyms\n",
    "        lookuplist = pd.concat([terms,synonyms]).reset_index(drop=True)\n",
    "        print(f'    -> {len(lookuplist)} terms in total\\n')\n",
    "        # create dictionary\n",
    "        DCC = DictLU_Create_Dict(lookuplist)\n",
    "        dicts_lower = DCC.dicts_lower\n",
    "        dicts_upper = DCC.dicts_upper\n",
    "        # save AGROVOG-dictionary as pickle\n",
    "        with open('data/pickle/AGROVOC/AGROVOC_dict_'+ x + '.p', 'wb') as handle:\n",
    "            pickle.dump([dicts_lower,dicts_upper], handle)\n"
   ]
  },
  {
   "cell_type": "code",
   "execution_count": null,
   "metadata": {},
   "outputs": [],
   "source": [
    "process_df(result_query)"
   ]
  },
  {
   "attachments": {},
   "cell_type": "markdown",
   "metadata": {},
   "source": [
    "# TO DO\n",
    "- progress bar ?\n",
    "- IDs"
   ]
  }
 ],
 "metadata": {
  "kernelspec": {
   "display_name": "base",
   "language": "python",
   "name": "python3"
  },
  "language_info": {
   "codemirror_mode": {
    "name": "ipython",
    "version": 3
   },
   "file_extension": ".py",
   "mimetype": "text/x-python",
   "name": "python",
   "nbconvert_exporter": "python",
   "pygments_lexer": "ipython3",
   "version": "3.10.9"
  },
  "orig_nbformat": 4
 },
 "nbformat": 4,
 "nbformat_minor": 2
}
